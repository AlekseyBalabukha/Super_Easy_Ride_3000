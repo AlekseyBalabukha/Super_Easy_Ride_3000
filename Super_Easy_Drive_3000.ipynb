{
 "cells": [
  {
   "cell_type": "markdown",
   "metadata": {},
   "source": [
    "# Super Easy Ride 3000    \n",
    "\n",
    "[Link to Tableau Dashboard](https://public.tableau.com/app/profile/aleksei5255/viz/Super_Easy_Ride_3000/Sales)"
   ]
  },
  {
   "cell_type": "code",
   "execution_count": 1,
   "metadata": {},
   "outputs": [],
   "source": [
    "# imports required \n",
    "import pandas as pd"
   ]
  },
  {
   "cell_type": "code",
   "execution_count": 3,
   "metadata": {},
   "outputs": [],
   "source": [
    "df = pd.read_csv('./data/test_task_BI_analyst.csv')"
   ]
  },
  {
   "cell_type": "code",
   "execution_count": 3,
   "metadata": {},
   "outputs": [
    {
     "data": {
      "text/plain": [
       "['VendorID',\n",
       " 'pickup_datetime',\n",
       " 'dropoff_datetime',\n",
       " 'passenger_count',\n",
       " 'trip_distance',\n",
       " 'RatecodeID',\n",
       " 'str_and_fwd_flag',\n",
       " 'FLocationID',\n",
       " 'TLocationID',\n",
       " 'payment_type',\n",
       " 'fare_amount',\n",
       " 'extra',\n",
       " 'xcorp_tax',\n",
       " 'tip_amount',\n",
       " 'tolls_amount',\n",
       " 'improvement_surcharge',\n",
       " 'total_amount']"
      ]
     },
     "execution_count": 3,
     "metadata": {},
     "output_type": "execute_result"
    }
   ],
   "source": [
    "# list of dimensions and measures:\n",
    "list(df.columns)"
   ]
  },
  {
   "cell_type": "markdown",
   "metadata": {},
   "source": [
    "For analysis convenience let's join the description of the numeric data:"
   ]
  },
  {
   "cell_type": "code",
   "execution_count": 4,
   "metadata": {},
   "outputs": [],
   "source": [
    "# VendorId description:\n",
    "vendor_description = pd.DataFrame({\n",
    "    'VendorID': [1, 2],\n",
    "    'Vendor': ['SkyFort Mobile Technologies', 'Micron Inc']\n",
    "})\n",
    "\n",
    "# join vendor description to the main dataset:\n",
    "df = pd.merge(df, vendor_description, on='VendorID', how='left')\n",
    "# drop column \"VendorId\":\n",
    "df = df.drop(columns=['VendorID'])"
   ]
  },
  {
   "cell_type": "code",
   "execution_count": 5,
   "metadata": {},
   "outputs": [],
   "source": [
    "# RatecodeID description:\n",
    "rate_code_id_description = pd.DataFrame({\n",
    "    'RatecodeID': [1,2,3,4,5,6],\n",
    "    'Rate_code': ['Standard', 'Rate_2', 'Rate_3', 'Rate_4', 'Rate_5', 'Rate_6']\n",
    "})\n",
    "\n",
    "# join rate code:\n",
    "df = pd.merge(df, rate_code_id_description, on='RatecodeID', how='left')\n",
    "df = df.drop(columns=['RatecodeID'])"
   ]
  },
  {
   "cell_type": "code",
   "execution_count": 6,
   "metadata": {},
   "outputs": [],
   "source": [
    "# str_and_fwd_flag description:\n",
    "str_and_fwd_flag_description = pd.DataFrame({\n",
    "    'str_and_fwd_flag': ['Y', 'N'],\n",
    "    'information_transfer_flag': ['Later Saved', 'Online Saved']\n",
    "})\n",
    "\n",
    "df = pd.merge(df, str_and_fwd_flag_description, on='str_and_fwd_flag', how='left')\n",
    "df = df.drop(columns=['str_and_fwd_flag'])"
   ]
  },
  {
   "cell_type": "code",
   "execution_count": 7,
   "metadata": {},
   "outputs": [],
   "source": [
    "# payment type description:\n",
    "payment_type_description = pd.DataFrame({\n",
    "    'payment_type': [1,2,3,4,5,6],\n",
    "    'payment_type_descr': [\n",
    "        'Bank_card',\n",
    "        'Cash',\n",
    "        'No_charge',\n",
    "        'Not paid',\n",
    "        'N/A',\n",
    "        'Canceled'\n",
    "    ]\n",
    "})\n",
    "\n",
    "df = pd.merge(df, payment_type_description, on='payment_type', how='left')\n",
    "df = df.drop(columns=['payment_type'])\n",
    "df = df.rename(columns={\n",
    "    'payment_type_descr': 'payment_type'\n",
    "})"
   ]
  },
  {
   "cell_type": "code",
   "execution_count": 8,
   "metadata": {},
   "outputs": [],
   "source": [
    "# add index for analysis:\n",
    "df.index.names = ['Ride_Index']"
   ]
  },
  {
   "cell_type": "code",
   "execution_count": 9,
   "metadata": {},
   "outputs": [],
   "source": [
    "# filter October 2077 data before analysis\n",
    "# convert pickup_datetime column to pandas datetime:\n",
    "df['pickup_datetime'] = pd.to_datetime(df['pickup_datetime'])\n",
    "df['dropoff_datetime'] = pd.to_datetime(df['dropoff_datetime'])\n",
    "# filter\n",
    "df = df[(df['pickup_datetime'].dt.year == 2077) & (df['pickup_datetime'].dt.month == 10)]"
   ]
  },
  {
   "cell_type": "markdown",
   "metadata": {},
   "source": [
    "in further analysis, we will not consider rides, where pickup time was later then dropoff time:"
   ]
  },
  {
   "cell_type": "code",
   "execution_count": 10,
   "metadata": {},
   "outputs": [],
   "source": [
    "# filter negative time ride:\n",
    "df = df[df['dropoff_datetime'] >= df['pickup_datetime']]"
   ]
  },
  {
   "cell_type": "code",
   "execution_count": 11,
   "metadata": {},
   "outputs": [
    {
     "data": {
      "text/html": [
       "<div>\n",
       "<style scoped>\n",
       "    .dataframe tbody tr th:only-of-type {\n",
       "        vertical-align: middle;\n",
       "    }\n",
       "\n",
       "    .dataframe tbody tr th {\n",
       "        vertical-align: top;\n",
       "    }\n",
       "\n",
       "    .dataframe thead th {\n",
       "        text-align: right;\n",
       "    }\n",
       "</style>\n",
       "<table border=\"1\" class=\"dataframe\">\n",
       "  <thead>\n",
       "    <tr style=\"text-align: right;\">\n",
       "      <th></th>\n",
       "      <th>pickup_datetime</th>\n",
       "      <th>dropoff_datetime</th>\n",
       "      <th>passenger_count</th>\n",
       "      <th>trip_distance</th>\n",
       "      <th>FLocationID</th>\n",
       "      <th>TLocationID</th>\n",
       "      <th>fare_amount</th>\n",
       "      <th>extra</th>\n",
       "      <th>xcorp_tax</th>\n",
       "      <th>tip_amount</th>\n",
       "      <th>tolls_amount</th>\n",
       "      <th>improvement_surcharge</th>\n",
       "      <th>total_amount</th>\n",
       "      <th>Vendor</th>\n",
       "      <th>Rate_code</th>\n",
       "      <th>information_transfer_flag</th>\n",
       "      <th>payment_type</th>\n",
       "    </tr>\n",
       "    <tr>\n",
       "      <th>Ride_Index</th>\n",
       "      <th></th>\n",
       "      <th></th>\n",
       "      <th></th>\n",
       "      <th></th>\n",
       "      <th></th>\n",
       "      <th></th>\n",
       "      <th></th>\n",
       "      <th></th>\n",
       "      <th></th>\n",
       "      <th></th>\n",
       "      <th></th>\n",
       "      <th></th>\n",
       "      <th></th>\n",
       "      <th></th>\n",
       "      <th></th>\n",
       "      <th></th>\n",
       "      <th></th>\n",
       "    </tr>\n",
       "  </thead>\n",
       "  <tbody>\n",
       "    <tr>\n",
       "      <th>0</th>\n",
       "      <td>2077-10-01 00:19:55</td>\n",
       "      <td>2077-10-01 00:23:57</td>\n",
       "      <td>1.0</td>\n",
       "      <td>0.40</td>\n",
       "      <td>48</td>\n",
       "      <td>163</td>\n",
       "      <td>4.50</td>\n",
       "      <td>3.00</td>\n",
       "      <td>0.5</td>\n",
       "      <td>0.0</td>\n",
       "      <td>0.00</td>\n",
       "      <td>0.3</td>\n",
       "      <td>8.30</td>\n",
       "      <td>SkyFort Mobile Technologies</td>\n",
       "      <td>Standard</td>\n",
       "      <td>Online Saved</td>\n",
       "      <td>Cash</td>\n",
       "    </tr>\n",
       "    <tr>\n",
       "      <th>1</th>\n",
       "      <td>2077-10-01 00:40:19</td>\n",
       "      <td>2077-10-01 00:55:17</td>\n",
       "      <td>2.0</td>\n",
       "      <td>4.30</td>\n",
       "      <td>144</td>\n",
       "      <td>141</td>\n",
       "      <td>14.50</td>\n",
       "      <td>3.00</td>\n",
       "      <td>0.5</td>\n",
       "      <td>2.0</td>\n",
       "      <td>0.00</td>\n",
       "      <td>0.3</td>\n",
       "      <td>20.30</td>\n",
       "      <td>SkyFort Mobile Technologies</td>\n",
       "      <td>Standard</td>\n",
       "      <td>Online Saved</td>\n",
       "      <td>Bank_card</td>\n",
       "    </tr>\n",
       "    <tr>\n",
       "      <th>2</th>\n",
       "      <td>2077-10-01 00:06:52</td>\n",
       "      <td>2077-10-01 00:21:23</td>\n",
       "      <td>1.0</td>\n",
       "      <td>5.00</td>\n",
       "      <td>137</td>\n",
       "      <td>80</td>\n",
       "      <td>17.00</td>\n",
       "      <td>3.00</td>\n",
       "      <td>0.5</td>\n",
       "      <td>5.2</td>\n",
       "      <td>0.00</td>\n",
       "      <td>0.3</td>\n",
       "      <td>26.00</td>\n",
       "      <td>SkyFort Mobile Technologies</td>\n",
       "      <td>Standard</td>\n",
       "      <td>Online Saved</td>\n",
       "      <td>Bank_card</td>\n",
       "    </tr>\n",
       "    <tr>\n",
       "      <th>3</th>\n",
       "      <td>2077-10-01 00:36:08</td>\n",
       "      <td>2077-10-01 00:36:15</td>\n",
       "      <td>1.0</td>\n",
       "      <td>0.00</td>\n",
       "      <td>25</td>\n",
       "      <td>25</td>\n",
       "      <td>-2.50</td>\n",
       "      <td>-0.50</td>\n",
       "      <td>-0.5</td>\n",
       "      <td>0.0</td>\n",
       "      <td>0.00</td>\n",
       "      <td>-0.3</td>\n",
       "      <td>-3.80</td>\n",
       "      <td>Micron Inc</td>\n",
       "      <td>Standard</td>\n",
       "      <td>Online Saved</td>\n",
       "      <td>Not paid</td>\n",
       "    </tr>\n",
       "    <tr>\n",
       "      <th>4</th>\n",
       "      <td>2077-10-01 00:36:08</td>\n",
       "      <td>2077-10-01 00:36:15</td>\n",
       "      <td>1.0</td>\n",
       "      <td>0.00</td>\n",
       "      <td>25</td>\n",
       "      <td>25</td>\n",
       "      <td>2.50</td>\n",
       "      <td>0.50</td>\n",
       "      <td>0.5</td>\n",
       "      <td>0.0</td>\n",
       "      <td>0.00</td>\n",
       "      <td>0.3</td>\n",
       "      <td>3.80</td>\n",
       "      <td>Micron Inc</td>\n",
       "      <td>Standard</td>\n",
       "      <td>Online Saved</td>\n",
       "      <td>Cash</td>\n",
       "    </tr>\n",
       "    <tr>\n",
       "      <th>...</th>\n",
       "      <td>...</td>\n",
       "      <td>...</td>\n",
       "      <td>...</td>\n",
       "      <td>...</td>\n",
       "      <td>...</td>\n",
       "      <td>...</td>\n",
       "      <td>...</td>\n",
       "      <td>...</td>\n",
       "      <td>...</td>\n",
       "      <td>...</td>\n",
       "      <td>...</td>\n",
       "      <td>...</td>\n",
       "      <td>...</td>\n",
       "      <td>...</td>\n",
       "      <td>...</td>\n",
       "      <td>...</td>\n",
       "      <td>...</td>\n",
       "    </tr>\n",
       "    <tr>\n",
       "      <th>7213886</th>\n",
       "      <td>2077-10-31 23:20:00</td>\n",
       "      <td>2077-10-31 23:56:00</td>\n",
       "      <td>NaN</td>\n",
       "      <td>19.53</td>\n",
       "      <td>77</td>\n",
       "      <td>119</td>\n",
       "      <td>63.83</td>\n",
       "      <td>2.75</td>\n",
       "      <td>0.5</td>\n",
       "      <td>0.0</td>\n",
       "      <td>6.12</td>\n",
       "      <td>0.3</td>\n",
       "      <td>73.50</td>\n",
       "      <td>NaN</td>\n",
       "      <td>NaN</td>\n",
       "      <td>NaN</td>\n",
       "      <td>NaN</td>\n",
       "    </tr>\n",
       "    <tr>\n",
       "      <th>7213887</th>\n",
       "      <td>2077-10-31 23:42:00</td>\n",
       "      <td>2077-11-01 00:07:00</td>\n",
       "      <td>NaN</td>\n",
       "      <td>4.96</td>\n",
       "      <td>238</td>\n",
       "      <td>137</td>\n",
       "      <td>28.95</td>\n",
       "      <td>2.75</td>\n",
       "      <td>0.5</td>\n",
       "      <td>0.0</td>\n",
       "      <td>0.00</td>\n",
       "      <td>0.3</td>\n",
       "      <td>32.50</td>\n",
       "      <td>NaN</td>\n",
       "      <td>NaN</td>\n",
       "      <td>NaN</td>\n",
       "      <td>NaN</td>\n",
       "    </tr>\n",
       "    <tr>\n",
       "      <th>7213888</th>\n",
       "      <td>2077-10-31 23:50:35</td>\n",
       "      <td>2077-11-01 00:08:45</td>\n",
       "      <td>NaN</td>\n",
       "      <td>4.63</td>\n",
       "      <td>186</td>\n",
       "      <td>166</td>\n",
       "      <td>29.26</td>\n",
       "      <td>2.75</td>\n",
       "      <td>0.0</td>\n",
       "      <td>0.0</td>\n",
       "      <td>0.00</td>\n",
       "      <td>0.3</td>\n",
       "      <td>32.31</td>\n",
       "      <td>NaN</td>\n",
       "      <td>NaN</td>\n",
       "      <td>NaN</td>\n",
       "      <td>NaN</td>\n",
       "    </tr>\n",
       "    <tr>\n",
       "      <th>7213889</th>\n",
       "      <td>2077-10-31 23:29:26</td>\n",
       "      <td>2077-10-31 23:59:15</td>\n",
       "      <td>NaN</td>\n",
       "      <td>17.49</td>\n",
       "      <td>45</td>\n",
       "      <td>122</td>\n",
       "      <td>54.25</td>\n",
       "      <td>2.75</td>\n",
       "      <td>0.0</td>\n",
       "      <td>0.0</td>\n",
       "      <td>6.12</td>\n",
       "      <td>0.3</td>\n",
       "      <td>63.42</td>\n",
       "      <td>NaN</td>\n",
       "      <td>NaN</td>\n",
       "      <td>NaN</td>\n",
       "      <td>NaN</td>\n",
       "    </tr>\n",
       "    <tr>\n",
       "      <th>7213890</th>\n",
       "      <td>2077-10-31 23:52:00</td>\n",
       "      <td>2077-11-01 00:39:00</td>\n",
       "      <td>NaN</td>\n",
       "      <td>15.97</td>\n",
       "      <td>140</td>\n",
       "      <td>91</td>\n",
       "      <td>39.62</td>\n",
       "      <td>2.75</td>\n",
       "      <td>0.5</td>\n",
       "      <td>0.0</td>\n",
       "      <td>6.12</td>\n",
       "      <td>0.3</td>\n",
       "      <td>49.29</td>\n",
       "      <td>NaN</td>\n",
       "      <td>NaN</td>\n",
       "      <td>NaN</td>\n",
       "      <td>NaN</td>\n",
       "    </tr>\n",
       "  </tbody>\n",
       "</table>\n",
       "<p>7213580 rows × 17 columns</p>\n",
       "</div>"
      ],
      "text/plain": [
       "               pickup_datetime    dropoff_datetime  passenger_count  \\\n",
       "Ride_Index                                                            \n",
       "0          2077-10-01 00:19:55 2077-10-01 00:23:57              1.0   \n",
       "1          2077-10-01 00:40:19 2077-10-01 00:55:17              2.0   \n",
       "2          2077-10-01 00:06:52 2077-10-01 00:21:23              1.0   \n",
       "3          2077-10-01 00:36:08 2077-10-01 00:36:15              1.0   \n",
       "4          2077-10-01 00:36:08 2077-10-01 00:36:15              1.0   \n",
       "...                        ...                 ...              ...   \n",
       "7213886    2077-10-31 23:20:00 2077-10-31 23:56:00              NaN   \n",
       "7213887    2077-10-31 23:42:00 2077-11-01 00:07:00              NaN   \n",
       "7213888    2077-10-31 23:50:35 2077-11-01 00:08:45              NaN   \n",
       "7213889    2077-10-31 23:29:26 2077-10-31 23:59:15              NaN   \n",
       "7213890    2077-10-31 23:52:00 2077-11-01 00:39:00              NaN   \n",
       "\n",
       "            trip_distance  FLocationID  TLocationID  fare_amount  extra  \\\n",
       "Ride_Index                                                                \n",
       "0                    0.40           48          163         4.50   3.00   \n",
       "1                    4.30          144          141        14.50   3.00   \n",
       "2                    5.00          137           80        17.00   3.00   \n",
       "3                    0.00           25           25        -2.50  -0.50   \n",
       "4                    0.00           25           25         2.50   0.50   \n",
       "...                   ...          ...          ...          ...    ...   \n",
       "7213886             19.53           77          119        63.83   2.75   \n",
       "7213887              4.96          238          137        28.95   2.75   \n",
       "7213888              4.63          186          166        29.26   2.75   \n",
       "7213889             17.49           45          122        54.25   2.75   \n",
       "7213890             15.97          140           91        39.62   2.75   \n",
       "\n",
       "            xcorp_tax  tip_amount  tolls_amount  improvement_surcharge  \\\n",
       "Ride_Index                                                               \n",
       "0                 0.5         0.0          0.00                    0.3   \n",
       "1                 0.5         2.0          0.00                    0.3   \n",
       "2                 0.5         5.2          0.00                    0.3   \n",
       "3                -0.5         0.0          0.00                   -0.3   \n",
       "4                 0.5         0.0          0.00                    0.3   \n",
       "...               ...         ...           ...                    ...   \n",
       "7213886           0.5         0.0          6.12                    0.3   \n",
       "7213887           0.5         0.0          0.00                    0.3   \n",
       "7213888           0.0         0.0          0.00                    0.3   \n",
       "7213889           0.0         0.0          6.12                    0.3   \n",
       "7213890           0.5         0.0          6.12                    0.3   \n",
       "\n",
       "            total_amount                       Vendor Rate_code  \\\n",
       "Ride_Index                                                        \n",
       "0                   8.30  SkyFort Mobile Technologies  Standard   \n",
       "1                  20.30  SkyFort Mobile Technologies  Standard   \n",
       "2                  26.00  SkyFort Mobile Technologies  Standard   \n",
       "3                  -3.80                   Micron Inc  Standard   \n",
       "4                   3.80                   Micron Inc  Standard   \n",
       "...                  ...                          ...       ...   \n",
       "7213886            73.50                          NaN       NaN   \n",
       "7213887            32.50                          NaN       NaN   \n",
       "7213888            32.31                          NaN       NaN   \n",
       "7213889            63.42                          NaN       NaN   \n",
       "7213890            49.29                          NaN       NaN   \n",
       "\n",
       "           information_transfer_flag payment_type  \n",
       "Ride_Index                                         \n",
       "0                       Online Saved         Cash  \n",
       "1                       Online Saved    Bank_card  \n",
       "2                       Online Saved    Bank_card  \n",
       "3                       Online Saved     Not paid  \n",
       "4                       Online Saved         Cash  \n",
       "...                              ...          ...  \n",
       "7213886                          NaN          NaN  \n",
       "7213887                          NaN          NaN  \n",
       "7213888                          NaN          NaN  \n",
       "7213889                          NaN          NaN  \n",
       "7213890                          NaN          NaN  \n",
       "\n",
       "[7213580 rows x 17 columns]"
      ]
     },
     "execution_count": 11,
     "metadata": {},
     "output_type": "execute_result"
    }
   ],
   "source": [
    "df"
   ]
  },
  {
   "cell_type": "code",
   "execution_count": 12,
   "metadata": {},
   "outputs": [],
   "source": [
    "# save to .csv file for analysis:\n",
    "df.to_csv('./data/data_Super_easy_ride_3000.csv', sep=';', index=True) # save with index"
   ]
  },
  {
   "cell_type": "markdown",
   "metadata": {},
   "source": [
    "# Analysis:"
   ]
  },
  {
   "cell_type": "markdown",
   "metadata": {},
   "source": [
    "- Vendor (data):\n",
    "let's look at the total number of ridges aggregated over Data Providers (Vendors):  \n",
    "  \n",
    "let's create calculated field, which will count number of rides by index of ride (number_of_rides = count(Ride_Index))  \n",
    "then, we will use this field to find total number of rides by of Data Suppliers  \n",
    "after that, we may want to proportion between them and Table Calclation (Percentage of total may help us with that):\n",
    "![](./pic/1.png)  \n",
    "\n",
    "using the graph,\n",
    "- we can see that General situation with data providers is relatively good, since we have only less then 1% of missing data provider\n",
    "- almost 2/3 of data (~65%) was provided by Micron Inc"
   ]
  },
  {
   "cell_type": "markdown",
   "metadata": {},
   "source": [
    "# Dynamics of Number of Rides:  \n",
    "let's take a look at the number of Rides grouped by Pickup date:  "
   ]
  },
  {
   "cell_type": "markdown",
   "metadata": {},
   "source": [
    "Now let's look at the filtered data:  \n",
    "![](./pic/3.png)"
   ]
  },
  {
   "cell_type": "markdown",
   "metadata": {},
   "source": [
    "We can observe one interesting feature of this distribution:  \n",
    "- the data is cyclic with peaks every 3-4 days\n",
    "    - this nature of data should be studied in depth, since it may also be influenced by the data system properties"
   ]
  },
  {
   "cell_type": "markdown",
   "metadata": {},
   "source": [
    "# Ride time:"
   ]
  },
  {
   "cell_type": "markdown",
   "metadata": {},
   "source": [
    "since we have filtered all rows, with negative ride time, we have the following basic statistics on ride time:\n",
    "- minimum ride time = 0\n",
    "- average ride time = 18.5 minutes\n",
    "- median ride time = 12 minutes\n",
    "- maximum ride time = 71 hour (which is very high)\n",
    "\n",
    "let's also take a look at the distribution of ride time:  \n",
    "![](./pic/4.png)  \n",
    "\n",
    "we can see that the distribution is highly deviated (Not Normal)  \n",
    "due to significant number of big outliers, average value is much higher then median value, therefore it can be misleading and not really representative"
   ]
  },
  {
   "cell_type": "markdown",
   "metadata": {},
   "source": [
    "therefore, if we would like to use this parameter in some form of statistical tests or predictive analysis, we would need to some how transform this distribution (cut outlier or use log scale)"
   ]
  },
  {
   "cell_type": "markdown",
   "metadata": {},
   "source": [
    "# Passenger count"
   ]
  },
  {
   "cell_type": "markdown",
   "metadata": {},
   "source": [
    "let's take a look at how many rides are held by our drivers with different number of passengers:  \n",
    "![](./pic/5.png)  \n",
    "  \n",
    "  \n",
    "generally, the picture shown is expected:  \n",
    "- we have majority of rides ordered by 1 passenger (however, there could be situations when driver simply put 1 as may be proposed number by the system)\n",
    "- there are almost 2% of rides without passengers (we can guess that service of delivery is also popular among our clients and we may try to facilitate this direction in future to grow on new market)"
   ]
  },
  {
   "cell_type": "markdown",
   "metadata": {},
   "source": [
    "# Trip distance  \n",
    "trip distance statistics is logically very similar to Ride time statistics:  \n",
    "![](./pic/6.png)  \n",
    "\n",
    "we see similar deviated distribution with high positive outliers"
   ]
  },
  {
   "cell_type": "markdown",
   "metadata": {},
   "source": [
    "for convenience of further analysis, we may split ride time and trip distance values into groups"
   ]
  },
  {
   "cell_type": "markdown",
   "metadata": {},
   "source": [
    "- time groups:\n",
    "    - 0-5 min\n",
    "    - 5-10 min\n",
    "    - 10-20 min\n",
    "    - 20-30 min\n",
    "    - 30-60 min\n",
    "    - 1 hour +\n",
    "  \n",
    "- distance groups:\n",
    "    - 0-1 km\n",
    "    - 1-2 km\n",
    "    - 2-5 km\n",
    "    - 5-10 km\n",
    "    - 10-20 km\n",
    "    - 20 + km\n",
    "\n",
    "\n",
    "![](./pic/7.png)"
   ]
  },
  {
   "cell_type": "markdown",
   "metadata": {},
   "source": [
    "# RateCode\n",
    "let's calculate share of difference Rates In our business\n",
    "![](./pic/8.png)  \n",
    "\n",
    "we can see that the majority of rides are held by Standard Rate. For now we assume that standard rate is used for rides inside Central Area of City, therefore, we see that this result is in strong correlation with previously calculated share of Distance groups, where 95% of all rides is occupied by Distance groups < 10 km  \n",
    "![](./pic/9.png)"
   ]
  },
  {
   "cell_type": "markdown",
   "metadata": {},
   "source": [
    "# Str_and_fwd_flag :  \n",
    "![](./pic/10.png)   \n",
    "We can see that in the Majority of Rides we receive information online, which allows us create a systems of Real time analytics"
   ]
  },
  {
   "cell_type": "markdown",
   "metadata": {},
   "source": [
    "# Payment Type:  \n",
    "![](./pic/11.png)  \n",
    "\n",
    "We can see that almost 1/4 of all rides were paid by credit card. This is a good tendency for the company, since this means that client and drivers trust our services. One another important advantage is that we can monitor real financial results of our business."
   ]
  },
  {
   "cell_type": "markdown",
   "metadata": {},
   "source": [
    "# Fare Amount:  \n",
    "let's take a look at the distribution of Fare Amount of rides:  \n",
    "![](./pic/12.png)  \n",
    "from the beginning this distribution is quite predictable with shape of Bell and big positive outliers, however in value 52$ we observe unexpected peak with really high number of rides evaluated for that Fare Amount. If this observation may help us to find some useful insights about our business: whether this amount is some feature of Algorithm that calculates Fare Amount or whether it is some kind of \"Magical\" value, which people use for longer rides..."
   ]
  },
  {
   "cell_type": "markdown",
   "metadata": {},
   "source": [
    "# Total Amount:  \n",
    "![](./pic/13.png)  \n",
    "  \n",
    "in the Total Amount Distribution we can see different picture: the is no Smooth shape of Bell curve that was observed in Fare Amount distribution.  \n",
    "Here, we see several peaks and steep falls of the graph. This can be the sign of Multimodality, which in turn can be the sign that we have several clusters of clients. This could be important for Marketing and Pricing Strategies"
   ]
  },
  {
   "cell_type": "markdown",
   "metadata": {},
   "source": [
    "# Moving Average (Total Amount Dynamics)  \n"
   ]
  },
  {
   "cell_type": "markdown",
   "metadata": {},
   "source": [
    "For Sales dynamics Anlysis, let's take a look at the Total Amount dynamics together with Moving Average calculated by 30 previous days:  \n",
    "![](./pic/14.png)"
   ]
  },
  {
   "cell_type": "markdown",
   "metadata": {},
   "source": [
    "We can see that in our Revenue the pattern of cyclical periods of ups and downs is saved. Moving Average may allow us to see the general trend in Our Incomes. One Month may be too small to make conclusions about business growth, however on the graph we can see that Sum of Total Revenue slightly increases to the end of the studied period:  \n",
    "- 4.52 Million in the 10th of October and 4.6 Million in the end of the studied period."
   ]
  },
  {
   "cell_type": "markdown",
   "metadata": {},
   "source": [
    "# Sales by time groups  \n",
    "to evaluate the efficiency of each ride we may want to take a look at the relationship between number of rides and generated Revenue per different time groups:  \n",
    "![](./pic/15.png)    \n",
    "(*this visualization shows percent of total number of rides in the Tooltip excluding filters in calculation of total, this was achieved by using FIXED LOD function*)  \n",
    "\n",
    "In this analysis, we may try to assume that Total Amount value is our Revenue. This means that Total Amount already includes payments to the Drivers  \n",
    "Assuming this, we will see that efficiency of longer rides is much higher than efficiency of shorter rides (efficiency = SUM(Total Amount) inside time group divided by Total Number of rides inside time group) we will name this parameter: \"Revenue per Ride\":  \n",
    "![](./pic/16.png)  "
   ]
  },
  {
   "cell_type": "markdown",
   "metadata": {},
   "source": [
    "### Set action on Sales Dashboard  \n",
    "Sales Dashboard includes Set action, which allows us to by clicking on any time group in the \"Sales by time groups\" visualization to see what proportion of sales were contributed by the selected time group into the Sales Dynamics on \"Sales Share by Time Group\" visualization:  \n",
    "![](./pic/18.png)"
   ]
  },
  {
   "cell_type": "markdown",
   "metadata": {},
   "source": [
    "# Heat Map Matrix of Locations:  \n",
    "let's build Matrix of Start and End locations to visualize what paths are the most popular among our clients:  \n",
    "we put locations ids into columns and rows of Matrix and show number of rides as the size of dots\n",
    "  \n",
    "We can use Parameter \"KPI\" to  change the Value of Interest (Number of Rides or Total Amount):  \n",
    "![](./pic/20.png)"
   ]
  },
  {
   "cell_type": "markdown",
   "metadata": {},
   "source": [
    "To Look at the Locations from the Higher Level we can combine them into Locations Groups:  \n",
    "- Both TLocation and FLocation fields were grouped by 50 location numbers each\n",
    "- Then Aggregated tables were created to allow us to see KPI of interest by Location group\n",
    "    - For convenience of Analysis, **Parameter Action** was created to allow to Expand each Location Category into Location Numbers to drill down to the location of interest:  \n",
    "    ![](./pic/21.png)"
   ]
  }
 ],
 "metadata": {
  "kernelspec": {
   "display_name": "Python 3.10.4 64-bit",
   "language": "python",
   "name": "python3"
  },
  "language_info": {
   "codemirror_mode": {
    "name": "ipython",
    "version": 3
   },
   "file_extension": ".py",
   "mimetype": "text/x-python",
   "name": "python",
   "nbconvert_exporter": "python",
   "pygments_lexer": "ipython3",
   "version": "3.10.4"
  },
  "orig_nbformat": 4,
  "vscode": {
   "interpreter": {
    "hash": "26de051ba29f2982a8de78e945f0abaf191376122a1563185a90213a26c5da77"
   }
  }
 },
 "nbformat": 4,
 "nbformat_minor": 2
}
